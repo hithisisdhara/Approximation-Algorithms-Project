{
 "cells": [
  {
   "cell_type": "code",
   "execution_count": 3,
   "metadata": {
    "collapsed": false
   },
   "outputs": [],
   "source": [
    "d ={1:1,2:2,3:4}"
   ]
  },
  {
   "cell_type": "code",
   "execution_count": 4,
   "metadata": {
    "collapsed": false
   },
   "outputs": [
    {
     "name": "stdout",
     "output_type": "stream",
     "text": [
      "1 1\n",
      "2 2\n",
      "3 4\n"
     ]
    }
   ],
   "source": [
    "for k,v in d.iteritems():\n",
    "    print k,v"
   ]
  },
  {
   "cell_type": "code",
   "execution_count": null,
   "metadata": {
    "collapsed": true
   },
   "outputs": [],
   "source": [
    "#Naive greedy \n",
    "for request in requests:\n",
    "    path[request]= graph.shortest_path(request)\n",
    "    adjacencylist[request] = set()\n",
    "    \n",
    "for request in requests:\n",
    "    for otherRequest in requests:\n",
    "        if path[request].intersection[otherRequest]:\n",
    "            adjacencylist[request].add(otherRequest)\n",
    "graph_color(adjacencylist)\n",
    "\n",
    "#Local search#James'\n",
    "for request in requests:\n",
    "    shortestPath = graph.shortest_path(request)\n",
    "    path[request]= shortestPath\n",
    "    graph.remove_edges(shortestPath)\n",
    "    adjacencylist[request] = set()\n",
    "\n",
    "for index,request in enumerate(requests):\n",
    "    for previousRequest in requests[0:index]:\n",
    "        if path[previousRequest].intersection[request]:\n",
    "            otherPath = graph.shortest_path(request)\n",
    "            if otherPath:\n",
    "                path[request] = otherPath\n",
    "                graph.remove_edges(otherPath)\n",
    "            else:\n",
    "                adjacencyllist[request].add(previousRequest)\n",
    "                adjacencylist[previousRequest].add(request)\n",
    "                \n",
    "#one more greedy \n",
    "for request in requests:\n",
    "    shortestPath = graph.shortest_path(request)\n",
    "    path[request]= shortestPath\n",
    "    adjacencylist[request] = set()\n",
    "\n",
    "for request in requests:\n",
    "    shortestPath = graph.shortest_path(request)\n",
    "    if shortestPath:\n",
    "        path[request]= shortestPath\n",
    "        graph.remove_edges(shortestPath)\n",
    "        \n",
    "for request in requests:\n",
    "    for otherRequest in requests:\n",
    "        if path[request].intersection[otherRequest]:\n",
    "            adjacencylist[request].add(otherRequest)\n",
    "graph_color(adjacencylist)"
   ]
  },
  {
   "cell_type": "code",
   "execution_count": null,
   "metadata": {
    "collapsed": true
   },
   "outputs": [],
   "source": []
  }
 ],
 "metadata": {
  "kernelspec": {
   "display_name": "Python [Root]",
   "language": "python",
   "name": "Python [Root]"
  },
  "language_info": {
   "codemirror_mode": {
    "name": "ipython",
    "version": 2
   },
   "file_extension": ".py",
   "mimetype": "text/x-python",
   "name": "python",
   "nbconvert_exporter": "python",
   "pygments_lexer": "ipython2",
   "version": "2.7.12"
  }
 },
 "nbformat": 4,
 "nbformat_minor": 0
}
