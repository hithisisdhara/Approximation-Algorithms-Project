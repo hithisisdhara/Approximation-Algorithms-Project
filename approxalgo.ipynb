{
 "cells": [
  {
   "cell_type": "code",
   "execution_count": 79,
   "metadata": {
    "collapsed": false
   },
   "outputs": [],
   "source": [
    "# Get data out of the file\n",
    "def get_edges(line):\n",
    "    edges = []\n",
    "    line = line.translate(None,\"[]\")\n",
    "    for token in line.split(\")\"):\n",
    "        if token:\n",
    "            values = token.split(\"(\")[1].split(\",\")\n",
    "            edges.append((int(values[0]),int(values[1])))\n",
    "    return edges \n",
    "# make pairs (g,i)\n",
    "data = []\n",
    "from collections import defaultdict,deque\n",
    "f = open('input.txt','r')\n",
    "for line in f:\n",
    "    if line != '\\n':\n",
    "        strings = line.split(\"]\")\n",
    "        data.append([get_edges(strings[0]),get_edges(strings[1])])\n",
    "f.close()\n",
    "class Graph:\n",
    "    def __init__(self,edges,requests):\n",
    "        self.edges = edges\n",
    "        self.inputs = requests \n",
    "        self.adj_list = self.adjacency_list()\n",
    "    def adjacency_list(self):\n",
    "        adj_list = defaultdict(set)\n",
    "        for start,end in self.edges:\n",
    "            adj_list[start].add(end)\n",
    "            adj_list[end].add(start)\n",
    "        return adj_list\n",
    "    def all_unvisited(self):\n",
    "        visited = defaultdict(int)\n",
    "        for v in self.adj_list:\n",
    "            visited[v]=0 # we know that no vertices start from 0\n",
    "        return visited\n",
    "    def remove_edge(self,edge):\n",
    "        s,b = edge[0],edge[1]\n",
    "        # remove this guy from edges \n",
    "        try:\n",
    "            tup = (s,b) if s<b else (b,s)\n",
    "            self.edges.remove(tup)\n",
    "        except:\n",
    "            pass\n",
    "        self.adj_list[s].discard(b)\n",
    "        self.adj_list[b].discard(s)\n",
    "        # adjust the adj list\n",
    "        "
   ]
  },
  {
   "cell_type": "code",
   "execution_count": 87,
   "metadata": {
    "collapsed": true
   },
   "outputs": [],
   "source": [
    "def shortest_path(graph,start,end):\n",
    "        def edges_from_path(path):\n",
    "            if len(path)<=1:\n",
    "                return path\n",
    "            edges = []\n",
    "            for i in range(len(path)-1):\n",
    "                tup = (path[i],path[i+1]) if path[i] < path[i+1] else (path[i+1],path[i])\n",
    "                edges.append(tup)\n",
    "            return edges \n",
    "        \n",
    "        pending =  deque([start])\n",
    "        visited = graph.all_unvisited()\n",
    "        path = []\n",
    "        while pending:\n",
    "            current = pending.popleft()\n",
    "            if current == end:\n",
    "                # track back all the neighbors \n",
    "                while current != start:\n",
    "                    path.append(current)\n",
    "                    current = visited[current]\n",
    "                path.append(current)\n",
    "                path.reverse()\n",
    "                return edges_from_path(path)\n",
    "            \n",
    "            for neighbor in graph.adj_list[current]:\n",
    "                if visited[neighbor] == 0:\n",
    "                    visited[neighbor] = current\n",
    "                    pending.append(neighbor)\n",
    "        return edges_from_path(path)"
   ]
  },
  {
   "cell_type": "code",
   "execution_count": 124,
   "metadata": {
    "collapsed": true
   },
   "outputs": [],
   "source": [
    "def graph_coloring(adj_list):\n",
    "    # assume that adj_list is int:set, the vertices are marked from 1 to len(adj_list)\n",
    "    total_colors = 0\n",
    "    all_vertices = set(adj_list.keys())\n",
    "    colors = defaultdict(int)\n",
    "    colors_adj_list = defaultdict(set)\n",
    "    # since this is defaultdict, it would return 0 and empty set if the emements are not present in the dict for the keys!\n",
    "    # Algorithm in a nutshell:\n",
    "    # http://www.geeksforgeeks.org/graph-coloring-set-2-greedy-algorithm/\n",
    "    if not adj_list:\n",
    "        #total_colors = 1\n",
    "        pass\n",
    "    else: \n",
    "        queue = deque([min(adj_list.keys())])\n",
    "        while queue:\n",
    "            c = queue.popleft()\n",
    "            if not colors[c]:\n",
    "                # this guy is not colored\n",
    "                pick = sorted(list(all_vertices - colors_adj_list[c]))[0]\n",
    "                colors[c] = pick\n",
    "                total_colors = pick if total_colors < pick else total_colors\n",
    "                for neighbor in adj_list[c]:\n",
    "                    if not colors[neighbor]:\n",
    "                        # if this guy is not colored yet\n",
    "                        colors_adj_list[neighbor].add(pick)\n",
    "                        queue.append(neighbor)\n",
    "            if not queue:\n",
    "                for vertex in adj_list.keys():\n",
    "                    if colors[vertex] == 0:\n",
    "                        queue.append(vertex)\n",
    "                        break\n",
    "        for vertex in colors.keys():\n",
    "            colors[vertex]=1/float(colors[vertex])\n",
    "    colors[\"total_colors\"] = total_colors\n",
    "    return colors \n"
   ]
  },
  {
   "cell_type": "code",
   "execution_count": 125,
   "metadata": {
    "collapsed": true
   },
   "outputs": [],
   "source": [
    "def remove_paths(g,paths):\n",
    "    for r in paths:\n",
    "        for edge in paths[r]:\n",
    "            g.remove_edge(edge)\n",
    "            \n",
    "def make_shortest_paths(g):\n",
    "            shortestPaths=defaultdict(set)\n",
    "            for s,t in g.inputs:\n",
    "                shortestPaths[(s,t)] = set(shortest_path(g,s,t))\n",
    "            return shortestPaths\n",
    "        \n",
    "def make_graph_of_demands(demand_paths):\n",
    "        translate = demand_paths.keys() # use indices as back and forth translation \n",
    "        adj_list = defaultdict(set)\n",
    "        for i in range(len(translate)):\n",
    "            for j in range(i+1,len(translate)):\n",
    "                if i != j and demand_paths[translate[i]].intersection(demand_paths[translate[j]]):\n",
    "                    adj_list[i+1].add(j+1)\n",
    "                    adj_list[j+1].add(i+1)\n",
    "        return adj_list\n",
    "\n",
    "def number_of_different_wavelengths(adj_list):\n",
    "    #adj_list = make_graph_of_demands(g)\n",
    "    #edges = edges_from_adj_list(adj_list)\n",
    "    color_map =graph_coloring(adj_list)\n",
    "    #draw_graph(edges,color_map)\n",
    "    return color_map['total_colors']"
   ]
  },
  {
   "cell_type": "code",
   "execution_count": 126,
   "metadata": {
    "collapsed": false
   },
   "outputs": [],
   "source": [
    "#f = open('wavelengths_edges_requests',\"w\")\n",
    "for line in data:\n",
    "    #print line[0],\"\\n\",line[1]\n",
    "    #line[0] is the graph, line[1] is the requests \n",
    "    g = Graph(line[0],line[1])\n",
    "    demand_paths=make_shortest_paths(g)\n",
    "    adj_list=make_graph_of_demands(demand_paths)\n",
    "    result = str(number_of_different_wavelengths(adj_list))+\";\"+str(len(g.edges))+\";\"+str(len(g.inputs))+\"\\n\"\n",
    "    #f.write(result)\n",
    "    #print result\n",
    "#f.close()"
   ]
  },
  {
   "cell_type": "code",
   "execution_count": 8,
   "metadata": {
    "collapsed": true
   },
   "outputs": [],
   "source": [
    "########################################################################\n",
    "## USAGE for unit testing only###\n",
    "def edges_from_adj_list(adj_list):\n",
    "    edges = []\n",
    "    for vertex in adj_list:\n",
    "        for neighbor in adj_list[vertex]:\n",
    "            if vertex < neighbor:\n",
    "                edges.append((vertex,neighbor))\n",
    "    return edges\n",
    "import networkx as nx\n",
    "import matplotlib.pyplot as plt\n",
    "def draw_graph(edges_list, values_map = None):\n",
    "    G=nx.Graph()\n",
    "    G.add_edges_from(edges_list)\n",
    "    if not values_map:\n",
    "        nx.draw(G,with_labels = True,node_color='Aqua')\n",
    "    else:\n",
    "        values = [values_map[node] for node in G.nodes()]\n",
    "        nx.draw(G, cmap=plt.get_cmap('cool'), node_color=values,with_labels = True)\n",
    "    plt.show()"
   ]
  },
  {
   "cell_type": "code",
   "execution_count": 117,
   "metadata": {
    "collapsed": false
   },
   "outputs": [],
   "source": [
    "# get shortest paths \n",
    "#g = Graph(data[0][0],data[0][1])\n",
    "#g = Graph([(1,2),(2,3),(1,4),(3,4)],[(1,3),(1,2)])\n",
    "#g= Graph([(1,2),(3,4)],[(1,2)])"
   ]
  },
  {
   "cell_type": "code",
   "execution_count": 119,
   "metadata": {
    "collapsed": true
   },
   "outputs": [],
   "source": [
    "#g = Graph([(1,2),(2,3),(1,4),(3,4)],[(1,3),(1,2)])\n",
    "def old_and_new_search(g):\n",
    "    initial_paths  = make_shortest_paths(g)\n",
    "    initial_wavelengths = number_of_different_wavelengths(make_graph_of_demands(initial_paths))\n",
    "    remove_paths(g,initial_paths)\n",
    "    new_paths = make_shortest_paths(g)\n",
    "    for request in new_paths.keys():\n",
    "        if new_paths[request]:\n",
    "            initial_paths[request] = new_paths[request]\n",
    "    new_wavelengths = number_of_different_wavelengths(make_graph_of_demands(initial_paths))\n",
    "    return [initial_wavelengths,new_wavelengths]"
   ]
  },
  {
   "cell_type": "code",
   "execution_count": 127,
   "metadata": {
    "collapsed": false
   },
   "outputs": [],
   "source": [
    "answers = []\n",
    "for line in data:\n",
    "    #print line[0],\"\\n\",line[1]\n",
    "    #line[0] is the graph, line[1] is the requests \n",
    "    g = Graph(line[0],line[1])\n",
    "    r = old_and_new_search(g)\n",
    "    answers.append(r)\n",
    "    #result = str()+\";\"+str(len(g.edges))+\";\"+str(len(g.inputs))+\"\\n\"\n",
    "    #f.write(result)\n",
    "    #print result"
   ]
  },
  {
   "cell_type": "code",
   "execution_count": 128,
   "metadata": {
    "collapsed": false
   },
   "outputs": [
    {
     "data": {
      "text/plain": [
       "400"
      ]
     },
     "execution_count": 128,
     "metadata": {},
     "output_type": "execute_result"
    }
   ],
   "source": [
    "len(answers)"
   ]
  },
  {
   "cell_type": "code",
   "execution_count": 130,
   "metadata": {
    "collapsed": false
   },
   "outputs": [],
   "source": [
    "count = 0\n",
    "for old,new in answers:\n",
    "    if old < new:\n",
    "        count += 1"
   ]
  },
  {
   "cell_type": "code",
   "execution_count": 131,
   "metadata": {
    "collapsed": false
   },
   "outputs": [
    {
     "data": {
      "text/plain": [
       "101"
      ]
     },
     "execution_count": 131,
     "metadata": {},
     "output_type": "execute_result"
    }
   ],
   "source": [
    "count"
   ]
  },
  {
   "cell_type": "code",
   "execution_count": null,
   "metadata": {
    "collapsed": true
   },
   "outputs": [],
   "source": []
  }
 ],
 "metadata": {
  "anaconda-cloud": {},
  "kernelspec": {
   "display_name": "Python [default]",
   "language": "python",
   "name": "python2"
  },
  "language_info": {
   "codemirror_mode": {
    "name": "ipython",
    "version": 2
   },
   "file_extension": ".py",
   "mimetype": "text/x-python",
   "name": "python",
   "nbconvert_exporter": "python",
   "pygments_lexer": "ipython2",
   "version": "2.7.12"
  }
 },
 "nbformat": 4,
 "nbformat_minor": 1
}
