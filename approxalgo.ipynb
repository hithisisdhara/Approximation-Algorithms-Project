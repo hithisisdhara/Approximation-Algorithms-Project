{
 "cells": [
  {
   "cell_type": "code",
   "execution_count": 18,
   "metadata": {
    "collapsed": false
   },
   "outputs": [],
   "source": [
    "# Get data out of the file\n",
    "def get_edges(line):\n",
    "    edges = []\n",
    "    line = line.translate(None,\"[]\")\n",
    "    for token in line.split(\")\"):\n",
    "        if token:\n",
    "            values = token.split(\"(\")[1].split(\",\")\n",
    "            edges.append((int(values[0]),int(values[1])))\n",
    "    return edges \n",
    "# make pairs (g,i)\n",
    "data = []\n",
    "from collections import defaultdict,deque\n",
    "f = open('input.txt','r')\n",
    "for line in f:\n",
    "    if line != '\\n':\n",
    "        strings = line.split(\"]\")\n",
    "        data.append([get_edges(strings[0]),get_edges(strings[1])])\n",
    "f.close()\n",
    "class Graph:\n",
    "    def __init__(self,edges,requests):\n",
    "        self.edges = edges\n",
    "        self.inputs = requests \n",
    "        self.adj_list = self.adjacency_list()\n",
    "    def adjacency_list(self):\n",
    "        adj_list = defaultdict(set)\n",
    "        for start,end in self.edges:\n",
    "            adj_list[start].add(end)\n",
    "            adj_list[end].add(start)\n",
    "        return adj_list\n",
    "    def all_unvisited(self):\n",
    "        visited = defaultdict(int)\n",
    "        for v in self.adj_list:\n",
    "            visited[v]=0 # we know that no vertices start from 0\n",
    "        return visited\n",
    "    def remove_edge(self,edge):\n",
    "        s,b = edge[0],edge[1]\n",
    "        # remove this guy from edges \n",
    "        tup = (s,b) if s<b else (b,s)\n",
    "        if tup in self.edges:\n",
    "            self.edges.remove(tup)\n",
    "            self.adj_list[s].discard(b)\n",
    "            self.adj_list[b].discard(s)\n",
    "        # adjust the adj list\n",
    "        "
   ]
  },
  {
   "cell_type": "code",
   "execution_count": 2,
   "metadata": {
    "collapsed": true
   },
   "outputs": [],
   "source": [
    "def shortest_path(graph,start,end):\n",
    "        def edges_from_path(path):\n",
    "            if len(path)<=1:\n",
    "                return path\n",
    "            edges = []\n",
    "            for i in range(len(path)-1):\n",
    "                tup = (path[i],path[i+1]) if path[i] < path[i+1] else (path[i+1],path[i])\n",
    "                edges.append(tup)\n",
    "            return edges \n",
    "        \n",
    "        pending =  deque([start])\n",
    "        visited = graph.all_unvisited()\n",
    "        path = []\n",
    "        while pending:\n",
    "            current = pending.popleft()\n",
    "            if current == end:\n",
    "                # track back all the neighbors \n",
    "                while current != start:\n",
    "                    path.append(current)\n",
    "                    current = visited[current]\n",
    "                path.append(current)\n",
    "                path.reverse()\n",
    "                return edges_from_path(path)\n",
    "            \n",
    "            for neighbor in graph.adj_list[current]:\n",
    "                if visited[neighbor] == 0:\n",
    "                    visited[neighbor] = current\n",
    "                    pending.append(neighbor)\n",
    "        return edges_from_path(path)"
   ]
  },
  {
   "cell_type": "code",
   "execution_count": 147,
   "metadata": {
    "collapsed": true
   },
   "outputs": [],
   "source": [
    "def graph_coloring(adj_list):\n",
    "    # assume that adj_list is int:set, the vertices are marked from 1 to len(adj_list)\n",
    "    total_colors = 0\n",
    "    all_vertices = set(adj_list.keys())\n",
    "    colors = defaultdict(int)\n",
    "    colors_adj_list = defaultdict(set)\n",
    "    # since this is defaultdict, it would return 0 and empty set if the emements are not present in the dict for the keys!\n",
    "    # Algorithm in a nutshell:\n",
    "    # http://www.geeksforgeeks.org/graph-coloring-set-2-greedy-algorithm/\n",
    "    if not adj_list:\n",
    "        #total_colors = 1\n",
    "        pass\n",
    "    else: \n",
    "        queue = deque([min(adj_list.keys())])\n",
    "        #queue = deque(max([(k,len(v)) for k,v in adj_list.iteritems()],key = lambda (x,y):y)[0])\n",
    "        while queue:\n",
    "            c = queue.popleft()\n",
    "            if not colors[c]:\n",
    "                # this guy is not colored\n",
    "                pick = sorted(list(all_vertices - colors_adj_list[c]))[0]\n",
    "                colors[c] = pick\n",
    "                total_colors = pick if total_colors < pick else total_colors\n",
    "                for neighbor in adj_list[c]:\n",
    "                    if not colors[neighbor]:\n",
    "                        # if this guy is not colored yet\n",
    "                        colors_adj_list[neighbor].add(pick)\n",
    "                        queue.append(neighbor)\n",
    "            if not queue:\n",
    "                for vertex in adj_list.keys():\n",
    "                    if colors[vertex] == 0:\n",
    "                        queue.append(vertex)\n",
    "                        break\n",
    "        for vertex in colors.keys():\n",
    "            colors[vertex]=1/float(colors[vertex])\n",
    "    colors[\"total_colors\"] = total_colors\n",
    "    return colors \n"
   ]
  },
  {
   "cell_type": "code",
   "execution_count": 122,
   "metadata": {
    "collapsed": true
   },
   "outputs": [],
   "source": [
    "def remove_paths(g,paths):\n",
    "    for r in paths.keys():\n",
    "        for edge in paths[r]:\n",
    "            g.remove_edge(edge)\n",
    "            \n",
    "def remove_list_of_edges(g,edges):\n",
    "    for edge in edges:\n",
    "        g.remove_edge(edge)\n",
    "            \n",
    "def make_shortest_paths(g):\n",
    "            shortestPaths=defaultdict(set)\n",
    "            for s,t in g.inputs:\n",
    "                shortestPaths[(s,t)] = set(shortest_path(g,s,t))\n",
    "            return shortestPaths\n",
    "        \n",
    "def make_graph_of_demands(demand_paths):\n",
    "        translate = sorted(demand_paths.keys()) # use indices as back and forth translation \n",
    "        adj_list = defaultdict(set)\n",
    "        for i in range(len(translate)):\n",
    "            for j in range(i+1,len(translate)):\n",
    "                if i != j and demand_paths[translate[i]].intersection(demand_paths[translate[j]]):\n",
    "                    adj_list[i+1].add(j+1)\n",
    "                    adj_list[j+1].add(i+1)\n",
    "        return adj_list\n",
    "\n",
    "def number_of_different_wavelengths(adj_list):\n",
    "    #adj_list = make_graph_of_demands(g)\n",
    "    #edges = edges_from_adj_list(adj_list)\n",
    "    color_map =graph_coloring(adj_list)\n",
    "    #draw_graph(edges,color_map)\n",
    "    return color_map['total_colors']"
   ]
  },
  {
   "cell_type": "raw",
   "metadata": {
    "collapsed": false
   },
   "source": [
    "#f = open('wavelengths_edges_requests',\"w\")\n",
    "for line in data:\n",
    "    #print line[0],\"\\n\",line[1]\n",
    "    #line[0] is the graph, line[1] is the requests \n",
    "    g = Graph(line[0],line[1])\n",
    "    demand_paths=make_shortest_paths(g)\n",
    "    adj_list=make_graph_of_demands(demand_paths)\n",
    "    result = str(number_of_different_wavelengths(adj_list))+\";\"+str(len(g.edges))+\";\"+str(len(g.inputs))+\"\\n\"\n",
    "    #f.write(result)\n",
    "    #print result\n",
    "#f.close()"
   ]
  },
  {
   "cell_type": "code",
   "execution_count": 8,
   "metadata": {
    "collapsed": true
   },
   "outputs": [],
   "source": [
    "########################################################################\n",
    "## USAGE for unit testing only###\n",
    "def edges_from_adj_list(adj_list):\n",
    "    edges = []\n",
    "    for vertex in adj_list:\n",
    "        for neighbor in adj_list[vertex]:\n",
    "            if vertex < neighbor:\n",
    "                edges.append((vertex,neighbor))\n",
    "    return edges\n",
    "import networkx as nx\n",
    "import matplotlib.pyplot as plt\n",
    "def draw_graph(edges_list, values_map = None):\n",
    "    G=nx.Graph()\n",
    "    G.add_edges_from(edges_list)\n",
    "    if not values_map:\n",
    "        nx.draw(G,with_labels = True,node_color='Aqua')\n",
    "    else:\n",
    "        values = [values_map[node] for node in G.nodes()]\n",
    "        nx.draw(G, cmap=plt.get_cmap('cool'), node_color=values,with_labels = True)\n",
    "    plt.show()"
   ]
  },
  {
   "cell_type": "raw",
   "metadata": {
    "collapsed": false
   },
   "source": [
    "# get shortest paths \n",
    "#g = Graph(data[0][0],data[0][1])\n",
    "#g = Graph([(1,2),(2,3),(1,4),(3,4)],[(1,3),(1,2)])\n",
    "#g= Graph([(1,2),(3,4)],[(1,2)])\n",
    "def Omodify_old_new_paths(oldpaths,newpaths):\n",
    "    requests = newpaths.keys()\n",
    "    for i,r in enumerate(requests):\n",
    "        if newpaths[r]:\n",
    "            flag = 0\n",
    "            for j in range(i):\n",
    "                if newpaths[requests[j]] and newpaths[requests[j]].intersection(newpaths[r]):\n",
    "                    flag = 1\n",
    "            if flag == 0:\n",
    "                oldpaths[r] = newpaths[r]\n",
    "            "
   ]
  },
  {
   "cell_type": "code",
   "execution_count": 153,
   "metadata": {
    "collapsed": false
   },
   "outputs": [],
   "source": [
    "def modify_old_paths(oldpaths,new_graph):\n",
    "    requests = sorted(oldpaths.keys())\n",
    "    for i,r in enumerate(requests):\n",
    "        flag = 0 \n",
    "        for j in range(i):\n",
    "            if oldpaths[requests[j]].intersection(oldpaths[r]) and flag == 0:\n",
    "                #find a new path for r in the new graph if possible \n",
    "                possible_path = set(shortest_path(new_graph,r[0],r[1]))\n",
    "                if possible_path:\n",
    "                    # yes there is a path for the request r in the new_graph, set this as a pat andremove edges from new graph\n",
    "                    #oldpaths[r]= possible_path\n",
    "                    oldpaths.pop(r,None)\n",
    "                    flag = 1\n",
    "                    remove_list_of_edges(new_graph,possible_path)\n",
    "                    #print r,possible_path"
   ]
  },
  {
   "cell_type": "raw",
   "metadata": {
    "collapsed": true
   },
   "source": [
    "#g = Graph([(1,2),(2,3),(1,4),(3,4)],[(1,3),(1,2)])\n",
    "def old_and_new_search(g):\n",
    "    initial_paths  = make_shortest_paths(g)\n",
    "    initial_wavelengths = number_of_different_wavelengths(make_graph_of_demands(initial_paths))\n",
    "    remove_paths(g,initial_paths)\n",
    "    new_paths = make_shortest_paths(g)\n",
    "    for request in new_paths.keys():\n",
    "        if new_paths[request]:\n",
    "            initial_paths[request] = new_paths[request]\n",
    "    new_wavelengths = number_of_different_wavelengths(make_graph_of_demands(initial_paths))\n",
    "    return [initial_wavelengths,new_wavelengths]"
   ]
  },
  {
   "cell_type": "code",
   "execution_count": 8,
   "metadata": {
    "collapsed": false
   },
   "outputs": [
    {
     "name": "stdout",
     "output_type": "stream",
     "text": [
      "[[(14, 17), (7, 12), (1, 17), (17, 20), (1, 6), (1, 11), (6, 7), (12, 17), (13, 20), (9, 14), (4, 5), (10, 13), (16, 19), (2, 17), (17, 18), (3, 18), (10, 14), (9, 19), (7, 8), (2, 18), (8, 9), (6, 14), (3, 6), (1, 10), (4, 11), (3, 5), (9, 13), (4, 6), (5, 7), (5, 20), (16, 20), (3, 15), (4, 8), (5, 13), (8, 19), (9, 18), (7, 11), (11, 19), (16, 17), (2, 19), (1, 14), (8, 10), (4, 13), (6, 15), (12, 14), (13, 15), (10, 16), (13, 18), (3, 4), (9, 12), (5, 9), (7, 16), (8, 14), (2, 9), (5, 12), (10, 12), (9, 17), (11, 18), (16, 18), (17, 19), (5, 15), (3, 19), (8, 17), (6, 12), (6, 19), (12, 15), (11, 17), (3, 8)], [(1, 2), (1, 4), (1, 5), (1, 9), (1, 12), (1, 16), (2, 6), (2, 8), (2, 12), (3, 9), (3, 12), (3, 17), (4, 9), (4, 12), (4, 16), (5, 8), (5, 10), (5, 14), (5, 18), (6, 8), (6, 9), (6, 16), (6, 17), (7, 15), (7, 19), (8, 12), (8, 16), (9, 15), (10, 18), (11, 12), (12, 13), (12, 18), (12, 20), (13, 17), (14, 16), (14, 18), (15, 17), (15, 18), (15, 20)]]\n"
     ]
    }
   ],
   "source": [
    "answers = []\n",
    "for line in data:\n",
    "    #print line[0],\"\\n\",line[1]\n",
    "    #line[0] is the graph, line[1] is the requests \n",
    "    g = Graph(line[0],line[1])\n",
    "    r = old_and_new_search(g)\n",
    "    if r[0] > r[1]:\n",
    "        print line\n",
    "        break\n",
    "    answers.append(r)\n",
    "    #result = str()+\";\"+str(len(g.edges))+\";\"+str(len(g.inputs))+\"\\n\"\n",
    "    #f.write(result)\n",
    "    #print result"
   ]
  },
  {
   "cell_type": "code",
   "execution_count": 154,
   "metadata": {
    "collapsed": false
   },
   "outputs": [],
   "source": [
    "line = [[(14, 17), (7, 12), (1, 17), (17, 20), (1, 6), (1, 11), (6, 7), (12, 17), (13, 20), (9, 14), (4, 5), (10, 13), (16, 19), (2, 17), (17, 18), (3, 18), (10, 14), (9, 19), (7, 8), (2, 18), (8, 9), (6, 14), (3, 6), (1, 10), (4, 11), (3, 5), (9, 13), (4, 6), (5, 7), (5, 20), (16, 20), (3, 15), (4, 8), (5, 13), (8, 19), (9, 18), (7, 11), (11, 19), (16, 17), (2, 19), (1, 14), (8, 10), (4, 13), (6, 15), (12, 14), (13, 15), (10, 16), (13, 18), (3, 4), (9, 12), (5, 9), (7, 16), (8, 14), (2, 9), (5, 12), (10, 12), (9, 17), (11, 18), (16, 18), (17, 19), (5, 15), (3, 19), (8, 17), (6, 12), (6, 19), (12, 15), (11, 17), (3, 8)], [(1, 2), (1, 4), (1, 5), (1, 9), (1, 12), (1, 16), (2, 6), (2, 8), (2, 12), (3, 9), (3, 12), (3, 17), (4, 9), (4, 12), (4, 16), (5, 8), (5, 10), (5, 14), (5, 18), (6, 8), (6, 9), (6, 16), (6, 17), (7, 15), (7, 19), (8, 12), (8, 16), (9, 15), (10, 18), (11, 12), (12, 13), (12, 18), (12, 20), (13, 17), (14, 16), (14, 18), (15, 17), (15, 18), (15, 20)]]"
   ]
  },
  {
   "cell_type": "code",
   "execution_count": 155,
   "metadata": {
    "collapsed": false
   },
   "outputs": [],
   "source": [
    "g = Graph(line[0],line[1])"
   ]
  },
  {
   "cell_type": "code",
   "execution_count": 156,
   "metadata": {
    "collapsed": false
   },
   "outputs": [
    {
     "data": {
      "text/plain": [
       "7"
      ]
     },
     "execution_count": 156,
     "metadata": {},
     "output_type": "execute_result"
    }
   ],
   "source": [
    "initial_paths  = make_shortest_paths(g)\n",
    "initial_wavelengths = number_of_different_wavelengths(make_graph_of_demands(initial_paths))\n",
    "initial_wavelengths"
   ]
  },
  {
   "cell_type": "code",
   "execution_count": 130,
   "metadata": {
    "collapsed": false
   },
   "outputs": [],
   "source": [
    "#sorted(g.edges)"
   ]
  },
  {
   "cell_type": "code",
   "execution_count": 131,
   "metadata": {
    "collapsed": false
   },
   "outputs": [],
   "source": [
    "#import copy\n",
    "#tmp = copy.deepcopy(initial_paths)\n",
    "#tmp"
   ]
  },
  {
   "cell_type": "code",
   "execution_count": 157,
   "metadata": {
    "collapsed": false
   },
   "outputs": [],
   "source": [
    "remove_paths(g,initial_paths)\n",
    "#g.adj_list\n",
    "#sorted(g.edges)"
   ]
  },
  {
   "cell_type": "code",
   "execution_count": 158,
   "metadata": {
    "collapsed": false
   },
   "outputs": [],
   "source": [
    "modify_old_paths(initial_paths,g)\n",
    "#g.adj_list"
   ]
  },
  {
   "cell_type": "code",
   "execution_count": 159,
   "metadata": {
    "collapsed": false
   },
   "outputs": [
    {
     "data": {
      "text/plain": [
       "defaultdict(set,\n",
       "            {(1, 2): {(1, 17), (2, 17)},\n",
       "             (1, 4): {(1, 11), (4, 11)},\n",
       "             (1, 5): {(1, 17), (5, 9), (9, 17)},\n",
       "             (1, 9): set(),\n",
       "             (1, 12): set(),\n",
       "             (1, 16): {(1, 17), (16, 17)},\n",
       "             (2, 6): {(2, 19), (6, 19)},\n",
       "             (2, 8): set(),\n",
       "             (2, 12): {(2, 17), (12, 17)},\n",
       "             (3, 9): {(3, 5), (5, 9)},\n",
       "             (3, 12): {(3, 5), (5, 12)},\n",
       "             (3, 17): {(3, 8), (8, 17)},\n",
       "             (4, 9): {(4, 5), (5, 9)},\n",
       "             (4, 12): {(4, 5), (5, 12)},\n",
       "             (4, 16): {(3, 4), (3, 18), (16, 18)},\n",
       "             (5, 8): {(3, 5), (3, 8)},\n",
       "             (5, 10): {(5, 12), (10, 12)},\n",
       "             (5, 14): {(5, 9), (9, 14)},\n",
       "             (5, 18): {(3, 5), (3, 18)},\n",
       "             (6, 8): set(),\n",
       "             (6, 9): {(6, 12), (9, 12)},\n",
       "             (6, 16): {(6, 7), (7, 16)},\n",
       "             (6, 17): set(),\n",
       "             (7, 15): {(5, 7), (5, 15)},\n",
       "             (7, 19): {(6, 7), (6, 19)},\n",
       "             (8, 12): {(7, 8), (7, 12)},\n",
       "             (8, 16): {(7, 8), (7, 16)},\n",
       "             (9, 15): {(5, 9), (5, 15)},\n",
       "             (10, 18): {(10, 13), (13, 18)},\n",
       "             (11, 12): {(7, 11), (7, 12)},\n",
       "             (12, 13): {(5, 12), (5, 13)},\n",
       "             (12, 18): {(9, 12), (9, 18)},\n",
       "             (12, 20): {(5, 12), (5, 20)},\n",
       "             (13, 17): {(9, 13), (9, 17)},\n",
       "             (14, 16): {(10, 14), (10, 16)},\n",
       "             (14, 18): {(9, 14), (9, 18)},\n",
       "             (15, 17): {(12, 15), (12, 17)},\n",
       "             (15, 18): {(3, 15), (3, 18)},\n",
       "             (15, 20): {(13, 15), (13, 20)}})"
      ]
     },
     "execution_count": 159,
     "metadata": {},
     "output_type": "execute_result"
    }
   ],
   "source": [
    "initial_paths"
   ]
  },
  {
   "cell_type": "code",
   "execution_count": 160,
   "metadata": {
    "collapsed": false
   },
   "outputs": [
    {
     "data": {
      "text/plain": [
       "9"
      ]
     },
     "execution_count": 160,
     "metadata": {},
     "output_type": "execute_result"
    }
   ],
   "source": [
    "wavelengths = number_of_different_wavelengths(make_graph_of_demands(initial_paths))\n",
    "wavelengths"
   ]
  },
  {
   "cell_type": "code",
   "execution_count": 41,
   "metadata": {
    "collapsed": false
   },
   "outputs": [
    {
     "data": {
      "text/plain": [
       "defaultdict(set,\n",
       "            {(1, 2): {(1, 17), (2, 17)},\n",
       "             (1, 4): {(1, 11), (4, 11)},\n",
       "             (1, 5): {(1, 17), (5, 9), (9, 17)},\n",
       "             (1, 9): {(1, 17), (9, 17)},\n",
       "             (1, 12): {(1, 17), (12, 17)},\n",
       "             (1, 16): {(1, 17), (16, 17)},\n",
       "             (2, 6): {(2, 19), (6, 19)},\n",
       "             (2, 8): {(2, 17), (8, 17)},\n",
       "             (2, 12): {(2, 17), (12, 17)},\n",
       "             (3, 9): {(3, 5), (5, 9)},\n",
       "             (3, 12): {(3, 5), (5, 12)},\n",
       "             (3, 17): {(3, 19), (17, 19)},\n",
       "             (4, 9): {(4, 5), (5, 9)},\n",
       "             (4, 12): {(4, 5), (5, 12)},\n",
       "             (4, 16): {(3, 4), (3, 18), (16, 18)},\n",
       "             (5, 8): {(3, 5), (3, 8)},\n",
       "             (5, 10): {(5, 12), (10, 12)},\n",
       "             (5, 14): {(5, 9), (9, 14)},\n",
       "             (5, 18): {(3, 5), (3, 18)},\n",
       "             (6, 8): {(3, 6), (3, 8)},\n",
       "             (6, 9): {(4, 6), (4, 8), (8, 9)},\n",
       "             (6, 16): {(6, 7), (7, 16)},\n",
       "             (6, 17): {(1, 6), (1, 17)},\n",
       "             (7, 15): {(5, 7), (5, 15)},\n",
       "             (7, 19): {(6, 7), (6, 19)},\n",
       "             (8, 12): {(7, 8), (7, 12)},\n",
       "             (8, 16): {(7, 8), (7, 16)},\n",
       "             (9, 15): {(5, 9), (5, 15)},\n",
       "             (10, 18): {(10, 13), (13, 18)},\n",
       "             (11, 12): {(7, 11), (7, 12)},\n",
       "             (12, 13): {(5, 12), (5, 13)},\n",
       "             (12, 18): {(9, 12), (9, 18)},\n",
       "             (12, 20): {(5, 12), (5, 20)},\n",
       "             (13, 17): {(9, 13), (9, 17)},\n",
       "             (14, 16): {(10, 14), (10, 16)},\n",
       "             (14, 18): {(9, 14), (9, 18)},\n",
       "             (15, 17): {(12, 15), (12, 17)},\n",
       "             (15, 18): {(3, 15), (3, 18)},\n",
       "             (15, 20): {(6, 14), (6, 15), (14, 17), (17, 20)}})"
      ]
     },
     "execution_count": 41,
     "metadata": {},
     "output_type": "execute_result"
    }
   ],
   "source": [
    "initial_paths"
   ]
  },
  {
   "cell_type": "code",
   "execution_count": null,
   "metadata": {
    "collapsed": true
   },
   "outputs": [],
   "source": []
  }
 ],
 "metadata": {
  "anaconda-cloud": {},
  "kernelspec": {
   "display_name": "Python [Root]",
   "language": "python",
   "name": "Python [Root]"
  },
  "language_info": {
   "codemirror_mode": {
    "name": "ipython",
    "version": 2
   },
   "file_extension": ".py",
   "mimetype": "text/x-python",
   "name": "python",
   "nbconvert_exporter": "python",
   "pygments_lexer": "ipython2",
   "version": "2.7.12"
  }
 },
 "nbformat": 4,
 "nbformat_minor": 1
}
