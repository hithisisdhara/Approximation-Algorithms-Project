{
 "cells": [
  {
   "cell_type": "code",
   "execution_count": 1,
   "metadata": {
    "collapsed": false
   },
   "outputs": [
    {
     "name": "stdout",
     "output_type": "stream",
     "text": [
      "/opt/spark/current\n",
      "Welcome to\n",
      "      ____              __\n",
      "     / __/__  ___ _____/ /__\n",
      "    _\\ \\/ _ \\/ _ `/ __/  '_/\n",
      "   /__ / .__/\\_,_/_/ /_/\\_\\   version 1.5.0\n",
      "      /_/\n",
      "\n",
      "Using Python version 2.7.12 (default, Jul  2 2016 17:42:40)\n",
      "SparkContext available as sc, SQLContext available as sqlContext.\n"
     ]
    }
   ],
   "source": [
    "import os\n",
    "import sys\n",
    "spark_home = os.environ.get('SPARK_HOME', None)\n",
    "if not spark_home:\n",
    "    raise ValueError('SPARK_HOME environment variable is not set')\n",
    "sys.path.insert(0, os.path.join(spark_home, 'python'))\n",
    "sys.path.insert(0, os.path.join(spark_home, '/opt/spark/dimos-spark/python/lib/py4j-0.8.2.1-src.zip')) \n",
    "print spark_home\n",
    "execfile(os.path.join(spark_home, 'python/pyspark/shell.py'))\n",
    "os.environ['PYSPARK_SUBMIT_ARGS'] = '--packages com.databricks:spark-csv_2.10:1.3.0 pyspark-shell'\n",
    "\n",
    "#from pyspark import SparkContext"
   ]
  },
  {
   "cell_type": "code",
   "execution_count": 38,
   "metadata": {
    "collapsed": true
   },
   "outputs": [],
   "source": [
    "from datetime import datetime"
   ]
  },
  {
   "cell_type": "code",
   "execution_count": 56,
   "metadata": {
    "collapsed": false
   },
   "outputs": [],
   "source": [
    "#headers\n",
    "'''\n",
    "0 VendorID,\n",
    "1 tpep_pickup_datetime,\n",
    "2 tpep_dropoff_datetime,\n",
    "3 passenger_count,\n",
    "4 trip_distance,\n",
    "5 pickup_longitude,\n",
    "6 pickup_latitude,\n",
    "7 RatecodeID,\n",
    "8 store_and_fwd_flag,\n",
    "9 dropoff_longitude,\n",
    "10 dropoff_latitude,\n",
    "11 payment_type,\n",
    "12 fare_amount,\n",
    "13 extra,\n",
    "14 mta_tax,\n",
    "15 tip_amount,\n",
    "16 tolls_amount,\n",
    "17 improvement_surcharge,\n",
    "18 total_amount\n",
    "\n",
    "'''\n",
    "raw = sc.textFile('yellow_tripdata_2016-06.csv').map(lambda line:line.split(',')).map(lambda l:(l[1],l[2],l[6],l[5],l[10],l[9])).zipWithIndex().filter (lambda (k,v):v > 0)\n"
   ]
  },
  {
   "cell_type": "code",
   "execution_count": 73,
   "metadata": {
    "collapsed": true
   },
   "outputs": [],
   "source": [
    "rdd_tp_td_latp_lonp_latd_lond = raw.map(lambda (k,v):(datetime.strptime(str(k[0]), '%Y-%m-%d %H:%M:%S'),datetime.strptime(str(k[1]), '%Y-%m-%d %H:%M:%S'),float(str(k[2][:9])),float(str(k[3][:10])),float(str(k[4][:9])),float(str(k[5][:10]))))"
   ]
  },
  {
   "cell_type": "code",
   "execution_count": 86,
   "metadata": {
    "collapsed": true
   },
   "outputs": [],
   "source": [
    "rdd_plonglat_dlonglat = raw.map(lambda (k,v):((float(str(k[2][:9])),float(str(k[3][:10]))),(float(str(k[4][:9])),float(str(k[5][:10])))))"
   ]
  },
  {
   "cell_type": "code",
   "execution_count": 90,
   "metadata": {
    "collapsed": false
   },
   "outputs": [
    {
     "data": {
      "text/plain": [
       "[((40.760936, -73.98336), (40.753978, -73.977462))]"
      ]
     },
     "execution_count": 90,
     "metadata": {},
     "output_type": "execute_result"
    }
   ],
   "source": [
    "#raw.take(1)\n",
    "#rdd_tp_td_latp_lonp_latd_lond.count()\n",
    "#rdd_tp_td_latp_lonp_latd_lond.take(1)\n",
    "rdd_plonglat_dlonglat.take(1)"
   ]
  },
  {
   "cell_type": "code",
   "execution_count": null,
   "metadata": {
    "collapsed": true
   },
   "outputs": [],
   "source": [
    "'''\n",
    "list the drop off nodes with degree less or equal to 10 \n",
    "'''"
   ]
  },
  {
   "cell_type": "code",
   "execution_count": 88,
   "metadata": {
    "collapsed": true
   },
   "outputs": [],
   "source": [
    "rdd_ddgree = rdd_plonglat_dlonglat.map(lambda (x,y):(y,1)).reduceByKey(lambda x,y:x+y)"
   ]
  },
  {
   "cell_type": "code",
   "execution_count": 95,
   "metadata": {
    "collapsed": false
   },
   "outputs": [],
   "source": [
    "rdd_dlesseq10 = rdd_ddgree.filter(lambda (x,y): y<=10).map(lambda (x,y):(x,1))"
   ]
  },
  {
   "cell_type": "code",
   "execution_count": 96,
   "metadata": {
    "collapsed": false
   },
   "outputs": [],
   "source": [
    "tmp = rdd_plonglat_dlonglat.map(lambda (x,y):(y,x)).leftOuterJoin(rdd_dlesseq10)"
   ]
  },
  {
   "cell_type": "code",
   "execution_count": 98,
   "metadata": {
    "collapsed": false
   },
   "outputs": [],
   "source": [
    "filter_1 = tmp.filter(lambda (d,(p,r)): r is None).map(lambda (d,(p,r)):(p,d))"
   ]
  },
  {
   "cell_type": "code",
   "execution_count": 99,
   "metadata": {
    "collapsed": false
   },
   "outputs": [
    {
     "data": {
      "text/plain": [
       "192667"
      ]
     },
     "execution_count": 99,
     "metadata": {},
     "output_type": "execute_result"
    }
   ],
   "source": [
    "filter_1.count()"
   ]
  },
  {
   "cell_type": "code",
   "execution_count": 100,
   "metadata": {
    "collapsed": true
   },
   "outputs": [],
   "source": [
    "rdd_pdgree = filter_1.map(lambda (p,d):(p,1)).reduceByKey(lambda x,y:x+y)"
   ]
  },
  {
   "cell_type": "code",
   "execution_count": 104,
   "metadata": {
    "collapsed": false
   },
   "outputs": [
    {
     "data": {
      "text/plain": [
       "[((0.0, 0.0), 112602),\n",
       " ((40.750396, -73.935615), 56),\n",
       " ((40.64178, -74.08995), 54),\n",
       " ((40.754348, -73.99559), 51),\n",
       " ((40.73851, -73.999588), 50),\n",
       " ((40.298828, -73.996421), 50),\n",
       " ((40.743831, -73.976722), 48),\n",
       " ((40.746021, -73.933952), 47),\n",
       " ((40.746143, -73.97776), 45),\n",
       " ((40.730758, -74.001602), 45)]"
      ]
     },
     "execution_count": 104,
     "metadata": {},
     "output_type": "execute_result"
    }
   ],
   "source": [
    "rdd_pdgree.sortBy(lambda (x,y):-y).take(10)"
   ]
  },
  {
   "cell_type": "markdown",
   "metadata": {},
   "source": [
    "'''\n",
    "Pick-up, dropoff degree count\n",
    "'''"
   ]
  },
  {
   "cell_type": "code",
   "execution_count": 75,
   "metadata": {
    "collapsed": false
   },
   "outputs": [],
   "source": [
    "rdd_pdgree = rdd_tp_td_latp_lonp_latd_lond.map(lambda x:((x[2],x[3]),1)).reduceByKey(lambda x,y:x+y)"
   ]
  },
  {
   "cell_type": "code",
   "execution_count": 80,
   "metadata": {
    "collapsed": false
   },
   "outputs": [
    {
     "data": {
      "text/plain": [
       "1653214"
      ]
     },
     "execution_count": 80,
     "metadata": {},
     "output_type": "execute_result"
    }
   ],
   "source": [
    "#rdd_pdgree.sortBy(lambda (x,y):-y).take(10)\n",
    "rdd_pdgree.filter(lambda (x,y):y > 1 and x != (0.0,0.0)).count()"
   ]
  },
  {
   "cell_type": "code",
   "execution_count": 77,
   "metadata": {
    "collapsed": true
   },
   "outputs": [],
   "source": [
    "rdd_ddgree = rdd_tp_td_latp_lonp_latd_lond.map(lambda x:((x[4],x[5]),1)).reduceByKey(lambda x,y:x+y)"
   ]
  },
  {
   "cell_type": "code",
   "execution_count": 78,
   "metadata": {
    "collapsed": false
   },
   "outputs": [
    {
     "data": {
      "text/plain": [
       "[((0.0, 0.0), 127824),\n",
       " ((40.298828, -73.996421), 56),\n",
       " ((40.750396, -73.935615), 56),\n",
       " ((40.64178, -74.08995), 54),\n",
       " ((40.73851, -73.999588), 52),\n",
       " ((40.754348, -73.99559), 51),\n",
       " ((40.743831, -73.976722), 48),\n",
       " ((40.746021, -73.933952), 47),\n",
       " ((40.76062, -74.002731), 46),\n",
       " ((40.746143, -73.97776), 46)]"
      ]
     },
     "execution_count": 78,
     "metadata": {},
     "output_type": "execute_result"
    }
   ],
   "source": [
    "rdd_ddgree.sortBy(lambda (x,y):-y).take(10)"
   ]
  },
  {
   "cell_type": "markdown",
   "metadata": {},
   "source": [
    "'''\n",
    "chk if there is a problem converting the data\n",
    "'''\n",
    "def chktime(s):\n",
    "    try:\n",
    "        date_object = datetime.strptime(str(s), '%Y-%m-%d %H:%M:%S')\n",
    "        return False\n",
    "    except ValueError:\n",
    "        return True\n",
    "def chkstring(s):\n",
    "    try:\n",
    "        s = str(s)\n",
    "        return False\n",
    "    except ValueError:\n",
    "        return True\n",
    "def chkfloat(f):\n",
    "    try:\n",
    "        f = float(f)\n",
    "        return False\n",
    "    except ValueError:\n",
    "        return True"
   ]
  },
  {
   "cell_type": "markdown",
   "metadata": {},
   "source": [
    "tmp = raw.map(lambda (k,v):k[1]).filter(lambda s:chktime(s)==True)\n",
    "tmp.collect()"
   ]
  },
  {
   "cell_type": "code",
   "execution_count": null,
   "metadata": {
    "collapsed": true
   },
   "outputs": [],
   "source": []
  }
 ],
 "metadata": {
  "kernelspec": {
   "display_name": "Python [Root]",
   "language": "python",
   "name": "Python [Root]"
  },
  "language_info": {
   "codemirror_mode": {
    "name": "ipython",
    "version": 2
   },
   "file_extension": ".py",
   "mimetype": "text/x-python",
   "name": "python",
   "nbconvert_exporter": "python",
   "pygments_lexer": "ipython2",
   "version": "2.7.12"
  }
 },
 "nbformat": 4,
 "nbformat_minor": 0
}
